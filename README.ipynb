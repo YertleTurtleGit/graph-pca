{
 "cells": [
  {
   "cell_type": "markdown",
   "metadata": {},
   "source": [
    "<font size=\"7\">**Graph PCA**</font>\n",
    "\n",
    "[![Generate README](https://github.com/YertleTurtleGit/graph-pca/actions/workflows/readme.yml/badge.svg)](https://github.com/YertleTurtleGit/graph-pca/actions/workflows/readme.yml)\n",
    "<a target=\"_blank\" href=\"https://colab.research.google.com/github/YertleTurtleGit/graph-pca/blob/main/README.ipynb\">\n",
    "<img src=\"https://colab.research.google.com/assets/colab-badge.svg\" alt=\"Open In Colab\"/>\n",
    "</a>\n",
    "\n",
    "Performs PCA with optional graph distance for neighborhood composition.\n",
    "\n",
    "(Still under heavy development.)\n",
    "\n",
    "<!-- START doctoc -->\n",
    "<!-- END doctoc -->\n"
   ]
  },
  {
   "cell_type": "markdown",
   "metadata": {},
   "source": [
    "# Installation"
   ]
  },
  {
   "cell_type": "code",
   "execution_count": null,
   "metadata": {},
   "outputs": [],
   "source": [
    "BUILD_BY_YOURSELF = False\n",
    "\n",
    "if BUILD_BY_YOURSELF:\n",
    "    !pip install maturin\n",
    "    !maturin develop\n",
    "else:\n",
    "    !pip install -q git+https://github.com/YertleTurtleGit/graph-pca"
   ]
  },
  {
   "cell_type": "markdown",
   "metadata": {},
   "source": [
    "# Examples"
   ]
  },
  {
   "cell_type": "markdown",
   "metadata": {},
   "source": [
    "## Image"
   ]
  },
  {
   "cell_type": "code",
   "execution_count": null,
   "metadata": {},
   "outputs": [],
   "source": [
    "!pip install -q numpy opencv-python matplotlib requests"
   ]
  },
  {
   "cell_type": "code",
   "execution_count": null,
   "metadata": {},
   "outputs": [],
   "source": [
    "import requests\n",
    "import numpy as np\n",
    "import cv2 as cv\n",
    "from matplotlib import pyplot as plt\n",
    "import graph_pca\n",
    "from graph_pca import Feature"
   ]
  },
  {
   "cell_type": "code",
   "execution_count": null,
   "metadata": {},
   "outputs": [],
   "source": [
    "image_url = \"http://thispersondoesnotexist.com/\"\n",
    "image = np.asarray(bytearray(requests.get(image_url).content), dtype=np.uint8)\n",
    "image = cv.imdecode(image, cv.IMREAD_COLOR)\n",
    "image = cv.cvtColor(image, cv.COLOR_BGR2RGB)\n",
    "image = cv.resize(image, (128, 128))\n",
    "image = image.astype(np.float64) / 255\n",
    "\n",
    "_ = plt.imshow(image)"
   ]
  },
  {
   "cell_type": "code",
   "execution_count": null,
   "metadata": {},
   "outputs": [],
   "source": [
    "h, w, c = image.shape\n",
    "\n",
    "radius = 0.25\n",
    "max_edge_length = (\n",
    "    radius  # this ignores graph distance, because max_edge_length >= radius\n",
    ")\n",
    "\n",
    "features = [Feature.Eigenvalues, Feature.PrincipalComponentValues]"
   ]
  },
  {
   "cell_type": "code",
   "execution_count": null,
   "metadata": {},
   "outputs": [],
   "source": [
    "feature_count = c\n",
    "image_vectors = image.reshape((w * h, feature_count))\n",
    "\n",
    "eigenvalues, pca = graph_pca.calculate_features(\n",
    "    image_vectors, features, radius, max_edge_length\n",
    ")"
   ]
  },
  {
   "cell_type": "code",
   "execution_count": null,
   "metadata": {},
   "outputs": [],
   "source": [
    "grid = np.array(np.meshgrid(np.linspace(0, 1, w), np.linspace(0, 1, h)))\n",
    "image_xy = np.dstack(\n",
    "    [image[:, :, 0], image[:, :, 1], image[:, :, 2], grid[0, :, :], grid[1, :, :]]\n",
    ")\n",
    "\n",
    "feature_count_xy = c + 2\n",
    "image_vectors_xy = image_xy.reshape((w * h, feature_count_xy))\n",
    "\n",
    "eigenvalues_xy, pca_xy = graph_pca.calculate_features(\n",
    "    image_vectors_xy, features, radius, max_edge_length\n",
    ")"
   ]
  },
  {
   "cell_type": "markdown",
   "metadata": {},
   "source": [
    "### Eigenvalues"
   ]
  },
  {
   "cell_type": "code",
   "execution_count": null,
   "metadata": {},
   "outputs": [],
   "source": [
    "eigenvalues = np.array(eigenvalues).reshape(h, w, feature_count)\n",
    "\n",
    "variance = np.prod(eigenvalues, axis=2) ** (1 / eigenvalues.shape[2])\n",
    "eigenvalue_sum = np.sum(eigenvalues, axis=2)\n",
    "\n",
    "figure, axes = plt.subplots(1, 2, figsize=(3 * 2, 3))\n",
    "axes[0].set_title(\"Variance\")\n",
    "_ = axes[0].imshow(variance)\n",
    "axes[1].set_title(\"Eigenvalue Sum\")\n",
    "_ = axes[1].imshow(eigenvalue_sum)"
   ]
  },
  {
   "cell_type": "code",
   "execution_count": null,
   "metadata": {},
   "outputs": [],
   "source": [
    "eigenvalues_xy = np.array(eigenvalues_xy).reshape(h, w, feature_count_xy)\n",
    "\n",
    "variance_xy = np.prod(eigenvalues_xy, axis=2) ** (1 / eigenvalues_xy.shape[2])\n",
    "eigenvalue_sum_xy = np.sum(eigenvalues_xy, axis=2)\n",
    "\n",
    "figure, axes = plt.subplots(1, 2, figsize=(3 * 2, 3))\n",
    "axes[0].set_title(\"Local Variance\")\n",
    "_ = axes[0].imshow(variance_xy)\n",
    "axes[1].set_title(\"Local Eigenvalue Sum\")\n",
    "_ = axes[1].imshow(eigenvalue_sum_xy)"
   ]
  },
  {
   "cell_type": "markdown",
   "metadata": {},
   "source": [
    "### Principal Component Analysis (PCA)"
   ]
  },
  {
   "cell_type": "code",
   "execution_count": null,
   "metadata": {},
   "outputs": [],
   "source": [
    "pca = np.array(pca)\n",
    "\n",
    "pca_list = []\n",
    "pca_count = feature_count\n",
    "for n in range(pca_count):\n",
    "    pca_list.append(np.clip(pca[:, n].reshape(h, w, 1), 0, 1))\n",
    "\n",
    "figure, axes = plt.subplots(1, pca_count, figsize=(3 * pca_count, 3))\n",
    "for n, pca_n in enumerate(pca_list):\n",
    "    _ = axes[n].imshow(pca_n)\n",
    "    axes[n].set_title(f\"PCA {n+1}\")"
   ]
  },
  {
   "cell_type": "code",
   "execution_count": null,
   "metadata": {},
   "outputs": [],
   "source": [
    "pca_xy = np.array(pca_xy)\n",
    "\n",
    "pca_list = []\n",
    "pca_count = feature_count_xy\n",
    "for n in range(pca_count):\n",
    "    pca_list.append(np.clip(pca_xy[:, n].reshape(h, w, 1), 0, 1))\n",
    "\n",
    "figure, axes = plt.subplots(1, pca_count, figsize=(3 * pca_count, 3))\n",
    "for n, pca_n in enumerate(pca_list):\n",
    "    _ = axes[n].imshow(pca_n)\n",
    "    axes[n].set_title(f\"Local PCA {n+1}\")"
   ]
  }
 ],
 "metadata": {
  "kernelspec": {
   "display_name": ".venv",
   "language": "python",
   "name": "python3"
  },
  "language_info": {
   "codemirror_mode": {
    "name": "ipython",
    "version": 3
   },
   "file_extension": ".py",
   "mimetype": "text/x-python",
   "name": "python",
   "nbconvert_exporter": "python",
   "pygments_lexer": "ipython3",
   "version": "3.10.12"
  }
 },
 "nbformat": 4,
 "nbformat_minor": 2
}
