{
 "cells": [
  {
   "cell_type": "markdown",
   "metadata": {
    "id": "Rsfzi8I_GL63"
   },
   "source": [
    "<font size=\"7\">**Graph PCA**</font>\n",
    "\n",
    "[![Generate README](https://github.com/YertleTurtleGit/graph-pca/actions/workflows/readme.yml/badge.svg)](https://github.com/YertleTurtleGit/graph-pca/actions/workflows/readme.yml)\n",
    "<a target=\"_blank\" href=\"https://colab.research.google.com/github/YertleTurtleGit/graph-pca/blob/main/README.ipynb\">\n",
    "<img src=\"https://colab.research.google.com/assets/colab-badge.svg\" alt=\"Open In Colab\"/>\n",
    "</a>\n",
    "\n",
    "Performs Principal Component Analysis (PCA) with optional graph distance for neighborhood composition.\n",
    "\n",
    "<!-- START doctoc -->\n",
    "<!-- END doctoc -->\n"
   ]
  },
  {
   "cell_type": "markdown",
   "metadata": {},
   "source": [
    "# Geodesic Graph Distance\n",
    "\n",
    "## Why?\n",
    "'Classic' (Euclidean distance) neighborhood search in point clouds has some downsides when it comes to structures that are thin in one dimension and close in proximity to the neighborhood radius (e.g., small twigs in a lidar scan of a tree). When computing geometric features using such a classic neighborhood approach, it is possible for adjacent twigs to interfere with each other in a way that the geometric features do not accurately represent an individual twig.\n",
    "\n",
    "## What?\n",
    "The method to prevent that was well visualized here:\n",
    "![](https://github.com/jakarto3d/jakteristics/assets/34098804/1d9b8696-4751-4dfc-b672-cf7c4153cf81)\n",
    "*Fig. 4 from the paper: Jiang, Anling, et al. \"Skeleton extraction from point clouds of trees with complex branches via graph contraction.\" The Visual Computer 37 (2021): 2235-2251.*\n",
    "\n",
    "and is also implemented in PyVista for single paths and meshes:\n",
    "![](https://github.com/jakarto3d/jakteristics/assets/34098804/7b66c4bd-0d18-439f-978e-53bc399f08ac)\n",
    "*Image from: https://docs.pyvista.org/version/stable/examples/01-filter/geodesic.html*\n",
    "\n",
    "It will compute the classic neighborhood and filter out any points that cannot be reached with edges, where each individual edge must be smaller or equal to max_graph_edge_length, and the cumulative sum of the edges must be smaller or equal to search_radius.\n",
    "\n",
    "## Results\n",
    "\n",
    "`max_edge_length=0.5` (both)\n",
    "`max_edge_length=0.1` (only for Geodesic distance)\n",
    "\n",
    "| Feature   |      'Classic' (only Euclidean distance)      |  Geodesic distance |\n",
    "|-------------|:-------------:|:-------------:|\n",
    "| Neighborhood size | ![number_of_neighbors](https://github.com/jakarto3d/jakteristics/assets/34098804/2353c589-c27a-48c2-89b0-a250b5f508a5) | ![number_of_neighbors_geodesic](https://github.com/jakarto3d/jakteristics/assets/34098804/e59db802-54db-4010-bb58-41c51a8f70a6) |\n",
    "| Eigenvalue 1 | ![eigenvalue](https://github.com/jakarto3d/jakteristics/assets/34098804/dc5a9ef5-b1ae-44bc-984d-7a7330f63b46) | ![eigenvalue1_geodesic](https://github.com/jakarto3d/jakteristics/assets/34098804/d78d3810-5b2c-413f-bddd-130e38f5f5ad) |\n",
    "| PC2 | ![pc2](https://github.com/jakarto3d/jakteristics/assets/34098804/56081abe-5221-4e70-8815-29bc2dea856f) | ![pc2_geodesic](https://github.com/jakarto3d/jakteristics/assets/34098804/d63d074b-8f70-4bd4-969c-e46e5a064245) |\n",
    "\n",
    "## Why not?\n",
    "- it's slow\n",
    "- it requires more RAM\n",
    "- you have to decide on two parameters instead of one :smile: "
   ]
  },
  {
   "cell_type": "markdown",
   "metadata": {
    "id": "18fzb0zkGL65"
   },
   "source": [
    "# Installation\n"
   ]
  },
  {
   "cell_type": "code",
   "execution_count": null,
   "metadata": {
    "id": "L2U1_9RZGL66"
   },
   "outputs": [],
   "source": [
    "!apt-get -qq install cargo\n",
    "%pip install -q pathlib2\n",
    "import pathlib2 as pathlib\n",
    "\n",
    "DEV_MODE = pathlib.Path('.git').is_dir() and pathlib.Path.cwd().name == \"graph-pca\"\n",
    "\n",
    "if DEV_MODE:\n",
    "    #%pip install -q maturin\n",
    "    #!maturin develop\n",
    "    %pip install .\n",
    "else:\n",
    "    %pip install -q git+https://github.com/YertleTurtleGit/graph-pca\n",
    "\n"
   ]
  },
  {
   "cell_type": "markdown",
   "metadata": {
    "id": "sdCPULKqGL67"
   },
   "source": [
    "# Example\n"
   ]
  },
  {
   "cell_type": "code",
   "execution_count": null,
   "metadata": {
    "id": "CwD8ki1uGL67"
   },
   "outputs": [],
   "source": [
    "%pip install -q numpy opencv-python matplotlib requests"
   ]
  },
  {
   "cell_type": "code",
   "execution_count": null,
   "metadata": {
    "id": "KkUIhRFoGL67"
   },
   "outputs": [],
   "source": [
    "import numpy as np\n",
    "from matplotlib import pyplot as plt\n",
    "import graph_pca\n",
    "from graph_pca import Feature"
   ]
  },
  {
   "cell_type": "code",
   "execution_count": null,
   "metadata": {
    "id": "RrLkN_kfXRUK"
   },
   "outputs": [],
   "source": [
    "# generate test data\n",
    "\n",
    "fig, ax = plt.subplots(figsize=(20, 20))\n",
    "ax.set_facecolor(\"white\")\n",
    "text = \"YEAHU\"\n",
    "ax.text(\n",
    "    0.5,\n",
    "    0.5,\n",
    "    text,\n",
    "    fontsize=50,\n",
    "    color=\"black\",\n",
    "    ha=\"center\",\n",
    "    va=\"center\",\n",
    "    transform=ax.transAxes,\n",
    ")\n",
    "\n",
    "ax.set_xticks([])\n",
    "ax.set_yticks([])\n",
    "ax.set_frame_on(False)\n",
    "\n",
    "fig.canvas.draw()\n",
    "image = np.array(fig.canvas.renderer.buffer_rgba())\n",
    "plt.close(fig)\n",
    "\n",
    "h, w, _ = image.shape\n",
    "grid = np.array(np.meshgrid(np.linspace(0, 1, w), np.linspace(0, 1, h)))\n",
    "points = np.dstack([grid[0, :, :], grid[1, :, :]])\n",
    "points = points[image[:, :, 0] == 0]\n",
    "points[:, 1] *= -1\n",
    "\n",
    "plt.gca().set_aspect(\"equal\")\n",
    "_ = plt.scatter(points[:, 0], points[:, 1], s=3)"
   ]
  },
  {
   "cell_type": "code",
   "execution_count": null,
   "metadata": {
    "id": "1fphI5PEZ0NM"
   },
   "outputs": [],
   "source": [
    "radius = 0.02\n",
    "features = [Feature.Eigenvalues, Feature.PrincipalComponentValues]\n",
    "pc_count = points.shape[1]"
   ]
  },
  {
   "cell_type": "markdown",
   "metadata": {
    "id": "-qusaBcJv64X"
   },
   "source": [
    "## Classic PCA\n"
   ]
  },
  {
   "cell_type": "code",
   "execution_count": null,
   "metadata": {
    "id": "QDeoAcbBtu7G"
   },
   "outputs": [],
   "source": [
    "eigenvalues_xy_graph, pca_xy_graph = np.array(\n",
    "    graph_pca.calculate_features(points, features, radius)\n",
    ")"
   ]
  },
  {
   "cell_type": "code",
   "execution_count": null,
   "metadata": {
    "id": "cn8ZCfCct6Mp"
   },
   "outputs": [],
   "source": [
    "figure, axes = plt.subplots(1, pc_count, figsize=(3.5 * pc_count, 1.5))\n",
    "for n in range(pc_count):\n",
    "    _ = axes[n].scatter(points[:, 0], points[:, 1], c=pca_xy_graph[:, n], s=3)\n",
    "    axes[n].axis(\"equal\")\n",
    "    axes[n].set_title(f\"PC {n+1}\")"
   ]
  },
  {
   "cell_type": "markdown",
   "metadata": {
    "id": "vmvcdQKrwA0j"
   },
   "source": [
    "## Graph PCA\n"
   ]
  },
  {
   "cell_type": "code",
   "execution_count": null,
   "metadata": {
    "id": "eqUb0PnRIuDr"
   },
   "outputs": [],
   "source": [
    "max_edge_length = 0.001\n",
    "eigenvalues_xy_graph, pca_xy_graph = np.array(\n",
    "    graph_pca.calculate_features(points, features, radius, max_edge_length)\n",
    ")"
   ]
  },
  {
   "cell_type": "code",
   "execution_count": null,
   "metadata": {
    "id": "0ExyVgaaaNzW"
   },
   "outputs": [],
   "source": [
    "figure, axes = plt.subplots(1, pc_count, figsize=(3.5 * pc_count, 1.5))\n",
    "for n in range(pc_count):\n",
    "    _ = axes[n].scatter(points[:, 0], points[:, 1], c=pca_xy_graph[:, n], s=3)\n",
    "    axes[n].axis(\"equal\")\n",
    "    axes[n].set_title(f\"Graph PC {n+1}\")"
   ]
  }
 ],
 "metadata": {
  "colab": {
   "collapsed_sections": [
    "18fzb0zkGL65"
   ],
   "machine_shape": "hm",
   "provenance": []
  },
  "kernelspec": {
   "display_name": "Python 3",
   "name": "python3"
  },
  "language_info": {
   "codemirror_mode": {
    "name": "ipython",
    "version": 3
   },
   "file_extension": ".py",
   "mimetype": "text/x-python",
   "name": "python",
   "nbconvert_exporter": "python",
   "pygments_lexer": "ipython3",
   "version": "3.10.12"
  }
 },
 "nbformat": 4,
 "nbformat_minor": 0
}
