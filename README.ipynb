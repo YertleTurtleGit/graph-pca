{
 "cells": [
  {
   "cell_type": "markdown",
   "metadata": {
    "id": "Rsfzi8I_GL63"
   },
   "source": [
    "<font size=\"7\">**Graph PCA**</font>\n",
    "\n",
    "[![Generate README](https://github.com/YertleTurtleGit/graph-pca/actions/workflows/readme.yml/badge.svg)](https://github.com/YertleTurtleGit/graph-pca/actions/workflows/readme.yml)\n",
    "<a target=\"_blank\" href=\"https://colab.research.google.com/github/YertleTurtleGit/graph-pca/blob/main/README.ipynb\">\n",
    "<img src=\"https://colab.research.google.com/assets/colab-badge.svg\" alt=\"Open In Colab\"/>\n",
    "</a>\n",
    "\n",
    "Performs Principal Component Analysis (PCA) with optional graph distance for neighborhood composition.\n",
    "\n",
    "<!-- START doctoc -->\n",
    "<!-- END doctoc -->\n"
   ]
  },
  {
   "cell_type": "markdown",
   "metadata": {
    "id": "18fzb0zkGL65"
   },
   "source": [
    "# Installation\n"
   ]
  },
  {
   "cell_type": "code",
   "execution_count": null,
   "metadata": {
    "id": "L2U1_9RZGL66"
   },
   "outputs": [],
   "source": [
    "!apt-get -qq install cargo\n",
    "%pip install -q pathlib2\n",
    "import pathlib2 as pathlib\n",
    "\n",
    "DEV_MODE = pathlib.Path('.git').is_dir() and pathlib.Path.cwd().name == \"graph-pca\"\n",
    "\n",
    "if DEV_MODE:\n",
    "    %pip install -q maturin\n",
    "    !maturin develop\n",
    "else:\n",
    "    %pip install -q git+https://github.com/YertleTurtleGit/graph-pca\n",
    "\n"
   ]
  },
  {
   "cell_type": "markdown",
   "metadata": {
    "id": "sdCPULKqGL67"
   },
   "source": [
    "# Example\n"
   ]
  },
  {
   "cell_type": "code",
   "execution_count": null,
   "metadata": {
    "id": "CwD8ki1uGL67"
   },
   "outputs": [],
   "source": [
    "%pip install -q numpy opencv-python matplotlib requests"
   ]
  },
  {
   "cell_type": "code",
   "execution_count": null,
   "metadata": {
    "id": "KkUIhRFoGL67"
   },
   "outputs": [],
   "source": [
    "import numpy as np\n",
    "from matplotlib import pyplot as plt\n",
    "import graph_pca\n",
    "from graph_pca import Feature"
   ]
  },
  {
   "cell_type": "code",
   "execution_count": null,
   "metadata": {
    "id": "RrLkN_kfXRUK"
   },
   "outputs": [],
   "source": [
    "# generate test data\n",
    "\n",
    "fig, ax = plt.subplots(figsize=(20, 20))\n",
    "ax.set_facecolor(\"white\")\n",
    "text = \"YEAHU\"\n",
    "ax.text(\n",
    "    0.5,\n",
    "    0.5,\n",
    "    text,\n",
    "    fontsize=50,\n",
    "    color=\"black\",\n",
    "    ha=\"center\",\n",
    "    va=\"center\",\n",
    "    transform=ax.transAxes,\n",
    ")\n",
    "\n",
    "ax.set_xticks([])\n",
    "ax.set_yticks([])\n",
    "ax.set_frame_on(False)\n",
    "\n",
    "fig.canvas.draw()\n",
    "image = np.array(fig.canvas.renderer.buffer_rgba())\n",
    "plt.close(fig)\n",
    "\n",
    "h, w, _ = image.shape\n",
    "grid = np.array(np.meshgrid(np.linspace(0, 1, w), np.linspace(0, 1, h)))\n",
    "points = np.dstack([grid[0, :, :], grid[1, :, :]])\n",
    "points = points[image[:, :, 0] == 0]\n",
    "points[:, 1] *= -1\n",
    "\n",
    "plt.gca().set_aspect(\"equal\")\n",
    "_ = plt.scatter(points[:, 0], points[:, 1], s=3)"
   ]
  },
  {
   "cell_type": "code",
   "execution_count": null,
   "metadata": {
    "id": "1fphI5PEZ0NM"
   },
   "outputs": [],
   "source": [
    "radius = 0.02\n",
    "features = [Feature.Eigenvalues, Feature.PrincipalComponentValues]\n",
    "pc_count = points.shape[1]"
   ]
  },
  {
   "cell_type": "markdown",
   "metadata": {
    "id": "-qusaBcJv64X"
   },
   "source": [
    "## Classic PCA\n"
   ]
  },
  {
   "cell_type": "code",
   "execution_count": null,
   "metadata": {
    "id": "QDeoAcbBtu7G"
   },
   "outputs": [],
   "source": [
    "eigenvalues_xy_graph, pca_xy_graph = np.array(\n",
    "    graph_pca.calculate_features(points, features, radius)\n",
    ")"
   ]
  },
  {
   "cell_type": "code",
   "execution_count": null,
   "metadata": {
    "id": "cn8ZCfCct6Mp"
   },
   "outputs": [],
   "source": [
    "figure, axes = plt.subplots(1, pc_count, figsize=(3.5 * pc_count, 1.5))\n",
    "for n in range(pc_count):\n",
    "    _ = axes[n].scatter(points[:, 0], points[:, 1], c=pca_xy_graph[:, n], s=3)\n",
    "    axes[n].axis(\"equal\")\n",
    "    axes[n].set_title(f\"PC {n+1}\")"
   ]
  },
  {
   "cell_type": "markdown",
   "metadata": {
    "id": "vmvcdQKrwA0j"
   },
   "source": [
    "## Graph PCA\n"
   ]
  },
  {
   "cell_type": "code",
   "execution_count": null,
   "metadata": {
    "id": "eqUb0PnRIuDr"
   },
   "outputs": [],
   "source": [
    "max_edge_length = 0.001\n",
    "eigenvalues_xy_graph, pca_xy_graph = np.array(\n",
    "    graph_pca.calculate_features(points, features, radius, max_edge_length)\n",
    ")"
   ]
  },
  {
   "cell_type": "code",
   "execution_count": null,
   "metadata": {
    "id": "0ExyVgaaaNzW"
   },
   "outputs": [],
   "source": [
    "figure, axes = plt.subplots(1, pc_count, figsize=(3.5 * pc_count, 1.5))\n",
    "for n in range(pc_count):\n",
    "    _ = axes[n].scatter(points[:, 0], points[:, 1], c=pca_xy_graph[:, n], s=3)\n",
    "    axes[n].axis(\"equal\")\n",
    "    axes[n].set_title(f\"Graph PC {n+1}\")"
   ]
  }
 ],
 "metadata": {
  "colab": {
   "collapsed_sections": [
    "18fzb0zkGL65"
   ],
   "machine_shape": "hm",
   "provenance": []
  },
  "kernelspec": {
   "display_name": "Python 3",
   "name": "python3"
  },
  "language_info": {
   "codemirror_mode": {
    "name": "ipython",
    "version": 3
   },
   "file_extension": ".py",
   "mimetype": "text/x-python",
   "name": "python",
   "nbconvert_exporter": "python",
   "pygments_lexer": "ipython3",
   "version": "3.10.12"
  }
 },
 "nbformat": 4,
 "nbformat_minor": 0
}
