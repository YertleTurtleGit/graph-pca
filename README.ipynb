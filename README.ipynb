{
 "cells": [
  {
   "cell_type": "markdown",
   "metadata": {},
   "source": [
    "# Graph PCA\n",
    "\n",
    "Performs PCA with optional graph distance for neighborhood composition.\n",
    "\n",
    "(Still under heavy development.)"
   ]
  },
  {
   "cell_type": "markdown",
   "metadata": {},
   "source": [
    "# Examples"
   ]
  },
  {
   "cell_type": "markdown",
   "metadata": {},
   "source": [
    "## Image"
   ]
  },
  {
   "cell_type": "code",
   "execution_count": null,
   "metadata": {},
   "outputs": [],
   "source": [
    "BUILD_BY_YOURSELF = False\n",
    "\n",
    "if BUILD_BY_YOURSELF:\n",
    "    !pip install maturin\n",
    "    !maturin develop\n",
    "else:\n",
    "    !pip install -q git+https://github.com/YertleTurtleGit/graph-pca\n",
    "\n",
    "!pip install -q numpy scikit-image matplotlib"
   ]
  },
  {
   "cell_type": "code",
   "execution_count": null,
   "metadata": {},
   "outputs": [],
   "source": [
    "import numpy as np\n",
    "from skimage import io\n",
    "from matplotlib import pyplot as plt\n",
    "import graph_pca"
   ]
  },
  {
   "cell_type": "code",
   "execution_count": null,
   "metadata": {},
   "outputs": [],
   "source": [
    "image = io.imread(\n",
    "    \"https://upload.wikimedia.org/wikipedia/commons/thumb/b/b6/SIPI_Jelly_Beans_4.1.07.tiff/lossy-page1-256px-SIPI_Jelly_Beans_4.1.07.tiff.jpg\"\n",
    ")\n",
    "image = image[80:180, 40:200, :3]\n",
    "_ = plt.imshow(image)\n",
    "\n",
    "image = image.astype(np.float64) / 255\n",
    "h, w, c = image.shape\n",
    "\n",
    "# This adds the pixel coordinates as features\n",
    "grid = np.array(np.meshgrid(np.linspace(0, 1, w), np.linspace(0, 1, h)))\n",
    "image = np.dstack(\n",
    "    [image[:, :, 0], image[:, :, 1], image[:, :, 2], grid[0, :, :], grid[1, :, :]]\n",
    ")\n",
    "\n",
    "# Transform the image in an array with 5 normalized features per data point: RGB+XY\n",
    "image = image.reshape((w * h, c + 2))"
   ]
  },
  {
   "cell_type": "code",
   "execution_count": null,
   "metadata": {},
   "outputs": [],
   "source": [
    "radius = 0.3\n",
    "max_edge_length = 0.15\n",
    "pca = graph_pca.calculate(image, radius, max_edge_length)"
   ]
  },
  {
   "cell_type": "code",
   "execution_count": null,
   "metadata": {},
   "outputs": [],
   "source": [
    "pca = np.array(pca)\n",
    "_ = plt.imshow(np.clip(pca[:, :3].reshape(h, w, 3), 0, 1))"
   ]
  }
 ],
 "metadata": {
  "kernelspec": {
   "display_name": ".venv",
   "language": "python",
   "name": "python3"
  },
  "language_info": {
   "codemirror_mode": {
    "name": "ipython",
    "version": 3
   },
   "file_extension": ".py",
   "mimetype": "text/x-python",
   "name": "python",
   "nbconvert_exporter": "python",
   "pygments_lexer": "ipython3",
   "version": "3.10.12"
  }
 },
 "nbformat": 4,
 "nbformat_minor": 2
}
