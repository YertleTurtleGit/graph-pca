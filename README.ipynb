{
  "cells": [
    {
      "cell_type": "markdown",
      "metadata": {
        "id": "Rsfzi8I_GL63"
      },
      "source": [
        "<font size=\"7\">**Graph PCA**</font>\n",
        "\n",
        "[![Generate README](https://github.com/YertleTurtleGit/graph-pca/actions/workflows/readme.yml/badge.svg)](https://github.com/YertleTurtleGit/graph-pca/actions/workflows/readme.yml)\n",
        "<a target=\"_blank\" href=\"https://colab.research.google.com/github/YertleTurtleGit/graph-pca/blob/main/README.ipynb\">\n",
        "<img src=\"https://colab.research.google.com/assets/colab-badge.svg\" alt=\"Open In Colab\"/>\n",
        "</a>\n",
        "\n",
        "Performs PCA with optional graph distance for neighborhood composition.\n",
        "\n",
        "(Still under heavy development.)\n",
        "\n",
        "<!-- START doctoc -->\n",
        "<!-- END doctoc -->\n"
      ]
    },
    {
      "cell_type": "markdown",
      "metadata": {
        "id": "18fzb0zkGL65"
      },
      "source": [
        "# Installation"
      ]
    },
    {
      "cell_type": "code",
      "execution_count": null,
      "metadata": {
        "id": "L2U1_9RZGL66"
      },
      "outputs": [],
      "source": [
        "BUILD_BY_YOURSELF = False\n",
        "\n",
        "if BUILD_BY_YOURSELF:\n",
        "    !pip install maturin\n",
        "    !maturin develop\n",
        "else:\n",
        "    !pip install -q git+https://github.com/YertleTurtleGit/graph-pca"
      ]
    },
    {
      "cell_type": "markdown",
      "metadata": {
        "id": "sdCPULKqGL67"
      },
      "source": [
        "# Example"
      ]
    },
    {
      "cell_type": "code",
      "execution_count": null,
      "metadata": {
        "id": "CwD8ki1uGL67"
      },
      "outputs": [],
      "source": [
        "!pip install -q numpy opencv-python matplotlib requests"
      ]
    },
    {
      "cell_type": "code",
      "execution_count": null,
      "metadata": {
        "id": "KkUIhRFoGL67"
      },
      "outputs": [],
      "source": [
        "import numpy as np\n",
        "from matplotlib import pyplot as plt\n",
        "import graph_pca\n",
        "from graph_pca import Feature"
      ]
    },
    {
      "cell_type": "code",
      "execution_count": null,
      "metadata": {
        "id": "RrLkN_kfXRUK"
      },
      "outputs": [],
      "source": [
        "# generate test data\n",
        "\n",
        "fig, ax = plt.subplots(figsize=(20, 20))\n",
        "ax.set_facecolor(\"white\")\n",
        "text = \"YEAHU\"\n",
        "ax.text(\n",
        "    0.5,\n",
        "    0.5,\n",
        "    text,\n",
        "    fontsize=50,\n",
        "    color=\"black\",\n",
        "    ha=\"center\",\n",
        "    va=\"center\",\n",
        "    transform=ax.transAxes,\n",
        ")\n",
        "\n",
        "ax.set_xticks([])\n",
        "ax.set_yticks([])\n",
        "ax.set_frame_on(False)\n",
        "\n",
        "fig.canvas.draw()\n",
        "image = np.array(fig.canvas.renderer.buffer_rgba())\n",
        "plt.close(fig)\n",
        "\n",
        "h, w, _ = image.shape\n",
        "grid = np.array(np.meshgrid(np.linspace(0, 1, w), np.linspace(0, 1, h)))\n",
        "points = np.dstack([grid[0, :, :], grid[1, :, :]])\n",
        "points = points[image[:, :, 0] == 0]\n",
        "points[:, 1] *= -1\n",
        "\n",
        "plt.gca().set_aspect(\"equal\")\n",
        "_ = plt.scatter(points[:, 0], points[:, 1], s=3)"
      ]
    },
    {
      "cell_type": "code",
      "execution_count": null,
      "metadata": {
        "id": "1fphI5PEZ0NM"
      },
      "outputs": [],
      "source": [
        "radius = 0.02\n",
        "features = [Feature.Eigenvalues, Feature.PrincipalComponentValues]\n",
        "pca_count = points.shape[1]"
      ]
    },
    {
      "cell_type": "markdown",
      "metadata": {
        "id": "-qusaBcJv64X"
      },
      "source": [
        "## Classic PCA"
      ]
    },
    {
      "cell_type": "code",
      "execution_count": null,
      "metadata": {
        "id": "QDeoAcbBtu7G"
      },
      "outputs": [],
      "source": [
        "max_edge_length = (\n",
        "    radius  # This ignores graph neighborhood, because max_edge_length >= radius\n",
        ")\n",
        "eigenvalues_xy_graph, pca_xy_graph = np.array(\n",
        "    graph_pca.calculate_features(points, features, radius, max_edge_length)\n",
        ")"
      ]
    },
    {
      "cell_type": "code",
      "execution_count": null,
      "metadata": {
        "id": "cn8ZCfCct6Mp"
      },
      "outputs": [],
      "source": [
        "figure, axes = plt.subplots(1, pca_count, figsize=(3.5 * pca_count, 1.5))\n",
        "for n in range(pca_count):\n",
        "    _ = axes[n].scatter(points[:, 0], points[:, 1], c=pca_xy_graph[:, n], s=3)\n",
        "    axes[n].axis(\"equal\")\n",
        "    axes[n].set_title(f\"PCA {n+1}\")"
      ]
    },
    {
      "cell_type": "markdown",
      "metadata": {
        "id": "vmvcdQKrwA0j"
      },
      "source": [
        "## Graph PCA"
      ]
    },
    {
      "cell_type": "code",
      "execution_count": null,
      "metadata": {
        "id": "eqUb0PnRIuDr"
      },
      "outputs": [],
      "source": [
        "max_edge_length = 0.001\n",
        "eigenvalues_xy_graph, pca_xy_graph = np.array(\n",
        "    graph_pca.calculate_features(points, features, radius, max_edge_length)\n",
        ")"
      ]
    },
    {
      "cell_type": "code",
      "execution_count": null,
      "metadata": {
        "id": "0ExyVgaaaNzW"
      },
      "outputs": [],
      "source": [
        "figure, axes = plt.subplots(1, pca_count, figsize=(3.5 * pca_count, 1.5))\n",
        "for n in range(pca_count):\n",
        "    _ = axes[n].scatter(points[:, 0], points[:, 1], c=pca_xy_graph[:, n], s=3)\n",
        "    axes[n].axis(\"equal\")\n",
        "    axes[n].set_title(f\"Graph PCA {n+1}\")"
      ]
    }
  ],
  "metadata": {
    "colab": {
      "collapsed_sections": [
        "18fzb0zkGL65"
      ],
      "machine_shape": "hm",
      "provenance": []
    },
    "kernelspec": {
      "display_name": "Python 3",
      "name": "python3"
    },
    "language_info": {
      "codemirror_mode": {
        "name": "ipython",
        "version": 3
      },
      "file_extension": ".py",
      "mimetype": "text/x-python",
      "name": "python",
      "nbconvert_exporter": "python",
      "pygments_lexer": "ipython3",
      "version": "3.10.12"
    }
  },
  "nbformat": 4,
  "nbformat_minor": 0
}
