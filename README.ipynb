{
 "cells": [
  {
   "cell_type": "markdown",
   "metadata": {},
   "source": [
    "<font size=\"7\">**Graph PCA**</font>\n",
    "\n",
    "[![Generate README](https://github.com/YertleTurtleGit/graph-pca/actions/workflows/readme.yml/badge.svg)](https://github.com/YertleTurtleGit/graph-pca/actions/workflows/readme.yml)\n",
    "<a target=\"_blank\" href=\"https://colab.research.google.com/github/YertleTurtleGit/graph-pca/blob/main/README.ipynb\">\n",
    "<img src=\"https://colab.research.google.com/assets/colab-badge.svg\" alt=\"Open In Colab\"/>\n",
    "</a>\n",
    "\n",
    "Performs PCA with optional graph distance for neighborhood composition.\n",
    "\n",
    "(Still under heavy development.)\n",
    "\n",
    "<!-- START doctoc -->\n",
    "<!-- END doctoc -->\n"
   ]
  },
  {
   "cell_type": "markdown",
   "metadata": {},
   "source": [
    "# Installation"
   ]
  },
  {
   "cell_type": "code",
   "execution_count": null,
   "metadata": {},
   "outputs": [],
   "source": [
    "BUILD_BY_YOURSELF = False\n",
    "\n",
    "if BUILD_BY_YOURSELF:\n",
    "    !pip install maturin\n",
    "    !maturin develop\n",
    "else:\n",
    "    !pip install -q git+https://github.com/YertleTurtleGit/graph-pca"
   ]
  },
  {
   "cell_type": "markdown",
   "metadata": {},
   "source": [
    "# Examples"
   ]
  },
  {
   "cell_type": "markdown",
   "metadata": {},
   "source": [
    "## Image"
   ]
  },
  {
   "cell_type": "code",
   "execution_count": null,
   "metadata": {},
   "outputs": [],
   "source": [
    "!pip install -q numpy opencv-python matplotlib requests"
   ]
  },
  {
   "cell_type": "code",
   "execution_count": null,
   "metadata": {},
   "outputs": [],
   "source": [
    "import requests\n",
    "import numpy as np\n",
    "import cv2 as cv\n",
    "from matplotlib import pyplot as plt\n",
    "import graph_pca"
   ]
  },
  {
   "cell_type": "code",
   "execution_count": null,
   "metadata": {},
   "outputs": [],
   "source": [
    "image_url = \"http://thispersondoesnotexist.com/\"\n",
    "image = np.asarray(bytearray(requests.get(image_url).content), dtype=np.uint8)\n",
    "image = cv.imdecode(image, cv.IMREAD_COLOR)\n",
    "image = cv.cvtColor(image, cv.COLOR_BGR2RGB)\n",
    "image = cv.resize(image, (128, 128))\n",
    "h, w, c = image.shape\n",
    "\n",
    "_ = plt.imshow(image)"
   ]
  },
  {
   "cell_type": "code",
   "execution_count": null,
   "metadata": {},
   "outputs": [],
   "source": [
    "radius = 0.1\n",
    "max_edge_length = (\n",
    "    radius  # this ignores graph distance, because max_edge_length >= radius\n",
    ")\n",
    "\n",
    "image = image.astype(np.float64) / 255\n",
    "h, w, c = image.shape\n",
    "image_vectors = image.reshape((w * h, c))\n",
    "\n",
    "feature_count = c\n",
    "\n",
    "pca = graph_pca.calculate(image_vectors, radius, max_edge_length)\n",
    "\n",
    "pca = np.array(pca)\n",
    "\n",
    "pca_list = []\n",
    "pca_count = feature_count - 1\n",
    "for n in range(pca_count):\n",
    "    pca_list.append(np.clip(pca[:, n].reshape(h, w, 1), 0, 1))\n",
    "\n",
    "figure, axes = plt.subplots(1, pca_count, figsize=(3 * pca_count, 3))\n",
    "for n, pca_n in enumerate(pca_list):\n",
    "    _ = axes[n].imshow(pca_n)\n",
    "    axes[n].set_title(f\"PCA {n+1}\")"
   ]
  },
  {
   "cell_type": "code",
   "execution_count": null,
   "metadata": {},
   "outputs": [],
   "source": [
    "# This adds the pixel coordinates as features\n",
    "grid = np.array(np.meshgrid(np.linspace(0, 1, w), np.linspace(0, 1, h)))\n",
    "image_xy = np.dstack(\n",
    "    [image[:, :, 0], image[:, :, 1], image[:, :, 2], grid[0, :, :], grid[1, :, :]]\n",
    ")\n",
    "\n",
    "# Transform the image in an array with 5 normalized features per data point: RGB+XY\n",
    "feature_count = c + 2\n",
    "image_vectors = image_xy.reshape((w * h, feature_count))\n",
    "\n",
    "pca = graph_pca.calculate(image_vectors, radius, max_edge_length)\n",
    "pca = np.array(pca)\n",
    "\n",
    "pca_list = []\n",
    "pca_count = feature_count - 1\n",
    "for n in range(pca_count):\n",
    "    pca_list.append(np.clip(pca[:, n].reshape(h, w, 1), 0, 1))\n",
    "\n",
    "figure, axes = plt.subplots(1, pca_count, figsize=(3 * pca_count, 3))\n",
    "for n, pca_n in enumerate(pca_list):\n",
    "    _ = axes[n].imshow(pca_n)\n",
    "    axes[n].set_title(f\"PCA {n+1}\")"
   ]
  }
 ],
 "metadata": {
  "kernelspec": {
   "display_name": ".venv",
   "language": "python",
   "name": "python3"
  },
  "language_info": {
   "codemirror_mode": {
    "name": "ipython",
    "version": 3
   },
   "file_extension": ".py",
   "mimetype": "text/x-python",
   "name": "python",
   "nbconvert_exporter": "python",
   "pygments_lexer": "ipython3",
   "version": "3.10.12"
  }
 },
 "nbformat": 4,
 "nbformat_minor": 2
}
